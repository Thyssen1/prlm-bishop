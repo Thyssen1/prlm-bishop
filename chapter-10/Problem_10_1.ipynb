{
 "cells": [
  {
   "cell_type": "markdown",
   "id": "0d06ebb2-6b36-433f-8f5e-ce9a4dd6aa1f",
   "metadata": {},
   "source": [
    "### Problem 10.1"
   ]
  },
  {
   "cell_type": "markdown",
   "id": "a082cd28-28dd-4abb-bf64-23424a0eaae1",
   "metadata": {},
   "source": [
    "The Kullback-Leibler divergence of $Q(Z)$ and $P(Z|X)$ is:\n",
    "\n",
    "$\\displaystyle \\text{KL} (p || q) = \\int q(Z) \\ln{\\frac{q(Z)}{p(Z|X)}} dZ$\n",
    "\n",
    "Note the following fact:\n",
    "\n",
    "$p(X,Z) = p(Z|X) P(X) \\implies p(Z|X) = \\frac{p(X, Z)}{p(X)}$\n",
    "\n",
    "The above along with the laws of logarithms can then be used to write:\n",
    "\n",
    "$\\displaystyle \\text{KL} (p || q) = \\int q(Z) \\ln{\\frac{q(Z)}{p(X, Z)} p(X)} dZ = \\ln{p(X)} \\int q(Z) dZ  -\\int q(Z) \\ln{\\frac{p(X, Z)}{q(Z)}} dZ$\n",
    "\n",
    "and finally using the fact that $q(Z)$ integrates to 1 due to it being a valid probability distribution, we get:\n",
    "\n",
    "$\\displaystyle \\ln{p(X)} = \\int q(Z) \\ln{\\frac{p(X, Z)}{q(Z)}} dZ + \\text{KL} (q || p)$"
   ]
  }
 ],
 "metadata": {
  "kernelspec": {
   "display_name": "Python 3 (ipykernel)",
   "language": "python",
   "name": "python3"
  },
  "language_info": {
   "codemirror_mode": {
    "name": "ipython",
    "version": 3
   },
   "file_extension": ".py",
   "mimetype": "text/x-python",
   "name": "python",
   "nbconvert_exporter": "python",
   "pygments_lexer": "ipython3",
   "version": "3.12.4"
  }
 },
 "nbformat": 4,
 "nbformat_minor": 5
}
