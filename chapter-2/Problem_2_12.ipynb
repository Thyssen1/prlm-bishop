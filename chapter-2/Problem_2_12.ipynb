{
 "cells": [
  {
   "cell_type": "markdown",
   "id": "6bd04efd-6656-4f16-bfbb-1e73302b0807",
   "metadata": {},
   "source": [
    "### Problem 2.12"
   ]
  },
  {
   "cell_type": "markdown",
   "id": "97bc7253-d0eb-471f-9ee7-d3208a8d0fb2",
   "metadata": {},
   "source": [
    "The uniform distribution is defined as: \n",
    "$U(x|a,b) = \\frac{1}{b-a}$ where $x \\in [a,b]$"
   ]
  },
  {
   "cell_type": "markdown",
   "id": "3857c122-2b3a-40fb-bb9a-ec8df8440132",
   "metadata": {},
   "source": [
    "The distribution is normalized:\n",
    "\n",
    "$\\displaystyle \\int_{a}^{b} \\frac{1}{b-a} dx = \\left[ \\frac{x}{b - a} \\right]_{a}^{b} = \\frac{b-a}{b-a} = 1$"
   ]
  },
  {
   "cell_type": "markdown",
   "id": "ee07ad30-659d-443c-ba8a-953e60112819",
   "metadata": {},
   "source": [
    "The mean is:\n",
    "\n",
    "$\\displaystyle \\mathbb{E} [x] = \\int_{a}^{b} \\frac{x}{b-a} dx = \\left[ \\frac{1}{2} \\frac{x^{2}}{b - a} \\right]_{a}^{b} = \\frac{1}{2} \\frac{1}{b-a} (b^{2} - a^{2}) = \\frac{a+b}{2}$"
   ]
  },
  {
   "cell_type": "markdown",
   "id": "c231a293-8a8b-45e0-b7b0-4d2d9cc8ed5e",
   "metadata": {},
   "source": [
    "The variance is:\n",
    "\n",
    "$\\mathbb{V} [x] = \\mathbb{E} [x^{2}] - \\mathbb{E} [x]^{2}$\n",
    "\n",
    "where \n",
    "\n",
    "$\\displaystyle \\mathbb{E} [x^2] = \\int^{b}_{a} \\frac{x^{2}}{b-a} dx = \\frac{1}{3} \\frac{1}{b-a} (b^3 - a^3)$\n",
    "\n",
    "The fact that\n",
    "\n",
    "$(b^3 - a^3) = (b-a) (a^2 + ab + b^2)$\n",
    "\n",
    "leads to:\n",
    "\n",
    "$\\mathbb{V} [x] = \\frac{1}{3} \\frac{1}{b-a} (b^3 - a^3) - \\frac{(a+b)^2}{4} = \\frac{b^2 + ab + a^2}{3} - \\frac{a^2 + ab + b^2}{4} = \\frac{a^2 + b^2 - 2ab}{12} = \\frac{(b-a)^2}{12}$\n"
   ]
  },
  {
   "cell_type": "code",
   "execution_count": null,
   "id": "369ebcf6-111b-4acf-9e17-1c4d7cd82894",
   "metadata": {},
   "outputs": [],
   "source": []
  }
 ],
 "metadata": {
  "kernelspec": {
   "display_name": "Python 3 (ipykernel)",
   "language": "python",
   "name": "python3"
  },
  "language_info": {
   "codemirror_mode": {
    "name": "ipython",
    "version": 3
   },
   "file_extension": ".py",
   "mimetype": "text/x-python",
   "name": "python",
   "nbconvert_exporter": "python",
   "pygments_lexer": "ipython3",
   "version": "3.12.4"
  }
 },
 "nbformat": 4,
 "nbformat_minor": 5
}
