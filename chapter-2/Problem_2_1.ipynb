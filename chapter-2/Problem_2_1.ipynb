{
 "cells": [
  {
   "cell_type": "markdown",
   "id": "d91e5f9e-9ebc-4355-9e52-f09561a859fe",
   "metadata": {},
   "source": [
    "### Problem 2.1"
   ]
  },
  {
   "cell_type": "markdown",
   "id": "84e178ca-df57-444b-9285-cc2ec4b8219d",
   "metadata": {},
   "source": [
    "(2.2) $ \\text{Bern} (x | \\mu) = P(X = x) = \\mu^{x} (1-\\mu)^{1-x} = \\displaystyle \\prod_{k} \\mu^{x_k}$\n"
   ]
  },
  {
   "cell_type": "markdown",
   "id": "c551af2e-27c7-4e74-9ba0-3d37c2d8715e",
   "metadata": {},
   "source": [
    "The Bernoulli distribution is a discrete probability distribution and summing over all probabilities of the probability mass function sums to 1:\n",
    "\n",
    "$\\displaystyle \\sum_{x} \\text{Bern} (x|\\mu) = \\mu^{1} (1-\\mu)^{1-1} + \\mu^{0} (1-\\mu)^{1-x} = \\mu + 1 - \\mu = 1$"
   ]
  },
  {
   "cell_type": "markdown",
   "id": "7b0000f0-9185-41b0-adfb-6abcc0402263",
   "metadata": {},
   "source": [
    "The mean is:\n",
    "\n",
    "$\\mathbb{E} [x] = \\displaystyle \\sum_{x} x \\text{Bern} (x|\\mu) = 1 \\mu = \\mu$"
   ]
  },
  {
   "cell_type": "markdown",
   "id": "4057538f-bcd2-4ded-901e-2d20e4c3383c",
   "metadata": {},
   "source": [
    "The variance is:\n",
    "\n",
    "$\\mathbb{V} [x] = \\mathbb{E} [x^{2}] - \\mathbb{E} [x]^{2} = \\mu - \\mu^{2} = \\mu (1-\\mu)$"
   ]
  },
  {
   "cell_type": "markdown",
   "id": "1155cfa7-4c67-4f77-aa65-937e399fe149",
   "metadata": {},
   "source": [
    "The entropy of x is:\n",
    "\n",
    "$H[x] = \\displaystyle -\\sum_{x} p(x) \\ln p(x) = -(1 - \\mu) \\ln(1 - \\mu) - \\mu \\ln(\\mu) = - \\mu \\ln{\\mu} - (1-\\mu) \\ln{(1-\\mu)}$"
   ]
  },
  {
   "cell_type": "code",
   "execution_count": null,
   "id": "31051765-ed69-4d88-bca1-5a8bc59025dd",
   "metadata": {},
   "outputs": [],
   "source": []
  }
 ],
 "metadata": {
  "kernelspec": {
   "display_name": "Python 3 (ipykernel)",
   "language": "python",
   "name": "python3"
  },
  "language_info": {
   "codemirror_mode": {
    "name": "ipython",
    "version": 3
   },
   "file_extension": ".py",
   "mimetype": "text/x-python",
   "name": "python",
   "nbconvert_exporter": "python",
   "pygments_lexer": "ipython3",
   "version": "3.12.4"
  }
 },
 "nbformat": 4,
 "nbformat_minor": 5
}
