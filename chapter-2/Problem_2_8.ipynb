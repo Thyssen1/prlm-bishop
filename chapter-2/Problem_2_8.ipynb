{
 "cells": [
  {
   "cell_type": "markdown",
   "id": "59e8bab9-7f57-4153-9aff-e764c525c9bf",
   "metadata": {},
   "source": [
    "### Problem 2.8"
   ]
  },
  {
   "cell_type": "markdown",
   "id": "41021590-7028-47d6-b3df-127c991abd3a",
   "metadata": {},
   "source": []
  },
  {
   "cell_type": "markdown",
   "id": "2bdf113f-5d54-458c-bb10-3cb8a6783d8d",
   "metadata": {},
   "source": []
  },
  {
   "cell_type": "markdown",
   "id": "efba417a-892e-4597-bc0d-7ff0037a4b40",
   "metadata": {},
   "source": []
  }
 ],
 "metadata": {
  "kernelspec": {
   "display_name": "Python 3 (ipykernel)",
   "language": "python",
   "name": "python3"
  },
  "language_info": {
   "codemirror_mode": {
    "name": "ipython",
    "version": 3
   },
   "file_extension": ".py",
   "mimetype": "text/x-python",
   "name": "python",
   "nbconvert_exporter": "python",
   "pygments_lexer": "ipython3",
   "version": "3.12.4"
  }
 },
 "nbformat": 4,
 "nbformat_minor": 5
}
