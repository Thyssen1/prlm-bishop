{
 "cells": [
  {
   "cell_type": "markdown",
   "id": "47fcdfb2-2bd9-49f2-9d0e-9c84393b4651",
   "metadata": {},
   "source": [
    "### Problem 2.21"
   ]
  },
  {
   "cell_type": "markdown",
   "id": "30aa3cc5-875b-4c9d-a241-30f31876db2c",
   "metadata": {},
   "source": [
    "The symmetric matrix $S \\in \\mathbb{R}^{n \\cross  n}$ satisfies $S = S^T$:\n",
    "\n",
    "$S = S^T =\n",
    "\\begin{bmatrix}\n",
    "s_{11} & s_{12} & \\cdots & s_{1n} \\\\\n",
    "s_{21} & s_{22} & \\cdots & s_{2n} \\\\\n",
    "\\vdots & \\vdots & \\ddots & \\vdots \\\\\n",
    "s_{n1} & s_{n2} & \\cdots & s_{nn}\n",
    "\\end{bmatrix}\n",
    "=\n",
    "\\begin{bmatrix}\n",
    "s_{11} & s_{21} & \\cdots & s_{n1} \\\\\n",
    "s_{12} & s_{22} & \\cdots & s_{n2} \\\\\n",
    "\\vdots & \\vdots & \\ddots & \\vdots \\\\\n",
    "s_{1n} & s_{2n} & \\cdots & s_{nn}\n",
    "\\end{bmatrix}\n",
    "$\n",
    "\n",
    "which shows that $s_{ij} = s_{ji}$. Thus if we know the $n$ parameters of the first row, then we only need to determine n-1 parameters in the next row, and following this logic at the last row only $s_{nn}$ must be determined.\n",
    "Thus we must determine the number of parameters given by:\n",
    "\n",
    "$n + (n-1) + ... + 1 = \\frac{n}{2} (n+1)$"
   ]
  },
  {
   "cell_type": "markdown",
   "id": "a547647c-a848-45a7-8020-741252db7b26",
   "metadata": {},
   "source": []
  }
 ],
 "metadata": {
  "kernelspec": {
   "display_name": "Python 3 (ipykernel)",
   "language": "python",
   "name": "python3"
  },
  "language_info": {
   "codemirror_mode": {
    "name": "ipython",
    "version": 3
   },
   "file_extension": ".py",
   "mimetype": "text/x-python",
   "name": "python",
   "nbconvert_exporter": "python",
   "pygments_lexer": "ipython3",
   "version": "3.12.4"
  }
 },
 "nbformat": 4,
 "nbformat_minor": 5
}
