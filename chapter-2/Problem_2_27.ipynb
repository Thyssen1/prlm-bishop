{
 "cells": [
  {
   "cell_type": "markdown",
   "id": "055215a8-caa4-435a-a27b-0a06cb3fd5d2",
   "metadata": {},
   "source": [
    "### Problem 2.27"
   ]
  },
  {
   "cell_type": "markdown",
   "id": "f314351b-cf24-4f4d-9272-dd0b061958ed",
   "metadata": {},
   "source": [
    "Let $x$ and $z$ be independent random variables such that $p(x,z) = p(x) p(z)$"
   ]
  },
  {
   "cell_type": "markdown",
   "id": "7c5a14b7-0ee6-499a-85eb-d7fd51329155",
   "metadata": {},
   "source": [
    "Let $y = x + z$"
   ]
  },
  {
   "cell_type": "markdown",
   "id": "5fb78d9a-ab37-46a4-b5e2-b06ee0793f4b",
   "metadata": {},
   "source": [
    "The mean of the sum of x and z is:\n",
    "\n",
    "$\\displaystyle \\mathbb{E} [y] = \\mathbb{E} [x + z] = \\displaystyle \\sum_{x} \\sum_{z} (x+z) p(x,z) = \\sum_{x} \\sum_{z} (x+z) p(x) p(z) = \n",
    "\\sum_{x} x p(x) \\sum_{z} p(z) + \\sum_{z} z p(z) \\sum_{x} p(x) = \\sum_{x} x p(x) + \\sum_{z} z p(z) = \\mathbb{E} [x] + \\mathbb{E}[z] $"
   ]
  },
  {
   "cell_type": "markdown",
   "id": "5532c4a8-6ec9-49ca-83a9-b2a1458fc7af",
   "metadata": {},
   "source": [
    "The covariance of y is:\n",
    "\n",
    "$\\displaystyle \\mathbb{E} [xz] = \\sum_{x} \\sum_{z} x z p(x) p(z) = \\sum_{x} x p(x) \\sum_{z} z p(z) = \\mathbb{E} [x]  \\mathbb{E} [z] $\n",
    "\n",
    "\n",
    "$\\text{Cov} [y] = \\mathbb{Cov} [x + z] = \\mathbb{E} [ (y-\\mathbb{E} [y])^{2}] = \\mathbb{E} [x^{2}] + \\mathbb{E}[z^{2}] + 2 \\mathbb{E} [xz] - \\mathbb{E} [x]^{2} - \\mathbb{E}[x]^{2} - \\mathbb{E} [z]^{2} - 2 \\mathbb{E} [x] \\mathbb{E} [z]$\n",
    "\n",
    "Using the fact that $\\mathbb{E} [xz] = \\mathbb{E}[x] \\mathbb{E}[z]$, we get:\n",
    "\n",
    "$\\text{Cov} [y] = \\mathbb{E} [x^{2}] + \\mathbb{E} [z^{2}] - \\mathbb{E}[x]^{2} - \\mathbb{E}[z]^{2} = \\mathbb{V} [x] + \\mathbb{z}$\n",
    "\n",
    "and thus:\n",
    "\n",
    "$\\text{Cov} [x + z] = \\text{Cov} (x, x) + \\text{Cov} (z,z)$"
   ]
  }
 ],
 "metadata": {
  "kernelspec": {
   "display_name": "Python 3 (ipykernel)",
   "language": "python",
   "name": "python3"
  },
  "language_info": {
   "codemirror_mode": {
    "name": "ipython",
    "version": 3
   },
   "file_extension": ".py",
   "mimetype": "text/x-python",
   "name": "python",
   "nbconvert_exporter": "python",
   "pygments_lexer": "ipython3",
   "version": "3.12.4"
  }
 },
 "nbformat": 4,
 "nbformat_minor": 5
}
