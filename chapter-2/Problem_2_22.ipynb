{
 "cells": [
  {
   "cell_type": "markdown",
   "id": "934a98c7-35e0-4c14-b78a-36a1dc0f1409",
   "metadata": {},
   "source": [
    "### Problem 2.22"
   ]
  },
  {
   "cell_type": "markdown",
   "id": "0bf33c4d-67f8-4d0d-a72b-c3125bd0c75d",
   "metadata": {},
   "source": [
    "Given a symmetric matrix, $S = S^{T}$ and that the inverse $S^{-1}$ exists, we want to prove that the inverse it itself symmetric.\n",
    "\n",
    "Applying the transpose of $S S^{-1} = I$ gives:\n",
    "\n",
    "$(S S^{-1})^T = (S^{-1})^{T} S^{T} = (S^{-1})^{T} S = I$\n",
    "\n",
    "But since the inverse is unique, and both $(S^{-1})^{T} S = I$ and $(S^{-1})^{T} S^{T} = I$ satisfy the equation, then $(S^{-1})^{T} = S^{-1}$"
   ]
  },
  {
   "cell_type": "markdown",
   "id": "5e7137c5-7763-4120-b27d-7dfaac54ff5e",
   "metadata": {},
   "source": []
  }
 ],
 "metadata": {
  "kernelspec": {
   "display_name": "Python 3 (ipykernel)",
   "language": "python",
   "name": "python3"
  },
  "language_info": {
   "codemirror_mode": {
    "name": "ipython",
    "version": 3
   },
   "file_extension": ".py",
   "mimetype": "text/x-python",
   "name": "python",
   "nbconvert_exporter": "python",
   "pygments_lexer": "ipython3",
   "version": "3.12.4"
  }
 },
 "nbformat": 4,
 "nbformat_minor": 5
}
