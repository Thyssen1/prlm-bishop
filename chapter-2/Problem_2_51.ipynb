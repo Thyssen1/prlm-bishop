{
 "cells": [
  {
   "cell_type": "markdown",
   "id": "03fb7bed-33d9-473e-bd1f-2d2f0fa89b6e",
   "metadata": {},
   "source": [
    "### Problem 2.51"
   ]
  },
  {
   "cell_type": "markdown",
   "id": "4f7487d4-8d9c-4271-93cb-00ff78124138",
   "metadata": {},
   "source": [
    "The formula $e^{iA} = \\cos(A) + i \\sin(A)$"
   ]
  },
  {
   "cell_type": "markdown",
   "id": "b4a299a5-4281-4e40-93b5-477de3dcafa1",
   "metadata": {},
   "source": [
    "That $\\cos^2(A) + \\sin^{2}(A) = 1$ can be shown by considering $e^{iA} e^{-iA} = 1$:\n",
    "\n",
    "$e^{iA} e^{-iA} = (\\cos(A) + i\\sin(A)) (\\cos(A) -i\\sin(A)) = \\cos^2(A) - i^2 \\sin^2(A) = \\cos^2(A) + \\sin^2(A) =  1$"
   ]
  },
  {
   "cell_type": "markdown",
   "id": "3f3c5984-844b-4d07-aac6-dd01a6dd35c3",
   "metadata": {},
   "source": [
    "Furthermore, since $\\cos(A-B) = \\mathbb{R} \\text{e} (e^{i(A-B)})$ we show that $\\cos(A-B) = \\cos(A) \\cos(B) + \\sin(A) \\sin(B)$:\n",
    "\n",
    "$e^{i(A-B)} = \\cos(A-B) + i \\sin(A-B) \\implies \\mathbb{R} \\text{e} (e^{i(A-B)}) = \\cos(A-B)$\n",
    "\n",
    "$e^{iA} e^{-iB} = (\\cos(A) + i \\sin(A)) (\\cos(B) - i \\sin(B)) = \\cos(A) \\cos(B) - i \\cos(A) \\sin(B) + i \\sin(A) \\cos(B) + \\sin(A) \\sin(B) \\implies \n",
    "\\mathbb{R} \\text{e} (e^{iA} e^{-iB}) = \\cos(A) \\cos(B) + \\sin(A) \\sin(B) = \\cos(A-B)$\n",
    "\n"
   ]
  },
  {
   "cell_type": "markdown",
   "id": "1b90a2af-73d1-40ee-b51a-106baa19ea35",
   "metadata": {},
   "source": [
    "Lastly, since $\\sin(A-B) = \\mathbb{I} \\text{m} (e^{i(A-B)})$ we have:\n",
    "\n",
    "$e^{iA} e^{-iB} = \\cos(A) \\cos(B) - i \\cos(A) \\sin(B) + i \\cos(B) \\sin(A) + \\sin(A) \\sin(B) \\implies\n",
    "\\mathbb{I} \\text{m} (e^{iA} e^{-iB}) = \\cos(B) \\sin(A) - \\cos(A) \\sin(B) = \\sin(A-B)$\n"
   ]
  },
  {
   "cell_type": "markdown",
   "id": "c005af70-3549-4d43-a06f-72020ba263ac",
   "metadata": {},
   "source": []
  },
  {
   "cell_type": "markdown",
   "id": "254ef439-f0af-4003-807e-1b03f5077b70",
   "metadata": {},
   "source": []
  }
 ],
 "metadata": {
  "kernelspec": {
   "display_name": "Python 3 (ipykernel)",
   "language": "python",
   "name": "python3"
  },
  "language_info": {
   "codemirror_mode": {
    "name": "ipython",
    "version": 3
   },
   "file_extension": ".py",
   "mimetype": "text/x-python",
   "name": "python",
   "nbconvert_exporter": "python",
   "pygments_lexer": "ipython3",
   "version": "3.12.4"
  }
 },
 "nbformat": 4,
 "nbformat_minor": 5
}
