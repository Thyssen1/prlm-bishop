{
 "cells": [
  {
   "cell_type": "markdown",
   "id": "05a68f2c-1c09-4ec7-8b24-a2b8c7e7c89b",
   "metadata": {},
   "source": [
    "### Problem 2.6"
   ]
  },
  {
   "cell_type": "markdown",
   "id": "5bd8da96-0ce3-4b5f-92cd-78cf8aeeb69e",
   "metadata": {},
   "source": [
    "From (2.13) the beta function is defined as $\\text{Beta} (\\mu | a,b) = \\frac{\\Gamma(a+b)}{\\Gamma(a) \\Gamma(b)} \\mu^{a-1} (1-\\mu)^{b-1}$"
   ]
  },
  {
   "cell_type": "markdown",
   "id": "9a0b4a89-0a76-4729-9ca1-bc86346d0870",
   "metadata": {},
   "source": [
    "And from (2.265): $\\int_{0}^{1} \\mu^{a-1} (1-\\mu)^{b-1} d\\mu = \\frac{\\Gamma(a) \\Gamma(b)}{\\Gamma(a+b)}$"
   ]
  },
  {
   "cell_type": "markdown",
   "id": "5323fbce-a39e-48e8-8025-6c58ae8f55bd",
   "metadata": {},
   "source": [
    "The mean of $\\mu$ is:\n",
    "\n",
    "$\\mathbb{E} [\\mu] = \\frac{\\Gamma(a) \\Gamma(b)}{\\Gamma(a+b)} \\int_{0}^{1} \\mu \\text{Beta} (\\mu | a,b) d\\mu = \\frac{\\Gamma(a) \\Gamma(b)}{\\Gamma(a+b)} \\int_{0}^{1} \\mu^{a} (1-\\mu)^{b-1} d\\mu = \\frac{\\Gamma(a) \\Gamma(b)}{\\Gamma(a+b)} \\frac{\\Gamma(a+1) \\Gamma(b)}{\\Gamma(a+b+1)} $\n",
    "\n",
    "where\n",
    "\n",
    "$\\Gamma(a+1) = a \\Gamma(a)$ and $\\Gamma(a+b+1) = (a+b) \\Gamma(a+b)$\n",
    "\n",
    "which leads to the gamma factors crossing out:\n",
    "\n",
    "$\\mathbb{E} [\\mu] = \\frac{a}{a+b}$"
   ]
  },
  {
   "cell_type": "markdown",
   "id": "fd41dd3d-9b0a-49b8-80f8-cf5db8cc64be",
   "metadata": {},
   "source": [
    "The variance of $\\mu$ is found by:\n",
    "\n",
    "$\\mathbb{V} [\\mu] = \\mathbb{E} [\\mu^{2}] - \\mathbb{E} [\\mu]^{2}$\n",
    "\n",
    "where \n",
    "\n",
    "$\\Gamma(a+2) = (a+1) a \\Gamma(a)$\n",
    "\n",
    "$\\Gamma(a+b+2) = (a+b+1) \\Gamma(a+b+1) = (a+b+1) (a+b) \\Gamma(a+b)$\n",
    "\n",
    "which leads to\n",
    "\n",
    "$\\mathbb{E} [\\mu^{2}] = \\frac{\\Gamma(a) \\Gamma(b)}{\\Gamma(a+b)} \\int_{0}^{1} \\mu^{2} \\text{Beta} (\\mu | a,b) d\\mu = \\frac{a (a+1)}{(a+b+1)(a+b)}$\n",
    "\n",
    "And thus the variance is obtained by:\n",
    "\n",
    "$\\mathbb{V} [\\mu] = \\mathbb{E} [\\mu^{2}] - \\mathbb{E} [\\mu]^{2} = \\frac{a (a+1) (a+b)}{(a+b) (a+b+1)} - \\frac{a^2 (a+b+1)}{(a+b)^{2} (a+b+1)} = \\frac{a^{3} + a^{2} b + a^{2} + ab - a{3} - a^{2} b - a^{2}}{(a+b)^{2} (a+b+1)}$\n",
    "\n",
    "which leads to:\n",
    "\n",
    "$\\mathbb{V} [\\mu] = \\frac{ab}{(a+b)^{2} (a+b+1)}$\n",
    "\n",
    "\n"
   ]
  },
  {
   "cell_type": "markdown",
   "id": "c682d6d9-d84f-4ad9-8a86-d22182d6a808",
   "metadata": {},
   "source": [
    "The mode is found as the maximum of the probability distribution. \n",
    "The beta distribution is differentiated with respect to $\\mu$ and the root of this function is found as:\n",
    "\n",
    "$\\frac{d \\text{Beta} (\\mu | a,b)}{d \\mu} = \\frac{\\Gamma(a+b)}{\\Gamma(a) \\Gamma(b)} [ (a-1) \\mu^{a-2} (1-\\mu)^{b-1} - \\mu^{a-1} (b-1) (1-\\mu)^{b-2}] = 0$\n",
    "\n",
    "$(1-\\mu)(a-1) = \\mu (b-1) \\implies a - 1 + \\mu (1 - a - b + 1) = 0 \\implies \\mu (2 - a - b) = 1 - a \n",
    "\\implies \\mu = \\frac{1-a}{2-a-b}$\n",
    "\n",
    "which leads to:\n",
    "\n",
    "$\\text{mode} [\\mu] = \\frac{a-1}{a+b-2}$"
   ]
  },
  {
   "cell_type": "code",
   "execution_count": null,
   "id": "947a9e73-c45a-421f-bd3c-5150bd12ec42",
   "metadata": {},
   "outputs": [],
   "source": []
  }
 ],
 "metadata": {
  "kernelspec": {
   "display_name": "Python 3 (ipykernel)",
   "language": "python",
   "name": "python3"
  },
  "language_info": {
   "codemirror_mode": {
    "name": "ipython",
    "version": 3
   },
   "file_extension": ".py",
   "mimetype": "text/x-python",
   "name": "python",
   "nbconvert_exporter": "python",
   "pygments_lexer": "ipython3",
   "version": "3.12.4"
  }
 },
 "nbformat": 4,
 "nbformat_minor": 5
}
